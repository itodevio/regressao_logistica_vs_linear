{
  "cells": [
    {
      "cell_type": "markdown",
      "metadata": {
        "id": "40b90843"
      },
      "source": [
        "<img src=\"http://meusite.mackenzie.br/rogerio/mackenzie_logo/UPM.2_horizontal_vermelho.jpg\"  width=300, align=\"right\">\n",
        "<br>\n",
        "<br>\n",
        "<br>\n",
        "<br>\n",
        "<br>\n",
        "\n",
        "# ***Título do seu projeto***\n",
        "---"
      ]
    },
    {
      "cell_type": "markdown",
      "metadata": {
        "id": "Ikv-pBzr9bNu"
      },
      "source": [
        "*Siga esse template para entrega do seu projeto. O código deste notebook precisa ser 100% executável.*"
      ]
    },
    {
      "cell_type": "code",
      "execution_count": null,
      "metadata": {
        "cellView": "form",
        "id": "rYx9D4GZA5o9"
      },
      "outputs": [],
      "source": [
        "#@title Identificação do Grupo\n",
        "\n",
        "#@markdown Turma **7N**\n",
        "\n",
        "#@markdown Integrantes do Grupo (*informe \\<TIA\\>,\\<nome\\>*)\n",
        "Aluno1 = '31928900, Ítalo Assunção' #@param {type:\"string\"} \n",
        "Aluno2 = '31986773, Rafael Alencar' #@param {type:\"string\"}\n",
        "Aluno3 = '31617212, Felipe Retondar' #@param {type:\"string\"}\n",
        "Aluno4 = '31946968, Roberto Tsuneki' #@param {type:\"string\"}\n"
      ]
    },
    {
      "cell_type": "markdown",
      "metadata": {
        "id": "A4-f8AtfKAn2"
      },
      "source": [
        "# Apresentação do Trabalho\n",
        "\n",
        "*Apresente resumidamente o trabalho justificando a escolha dos dados.*"
      ]
    },
    {
      "cell_type": "markdown",
      "metadata": {
        "id": "7LtXrRFr4hg3"
      },
      "source": [
        "# Referencial Teórico\n",
        "\n",
        "*Resuma aqui referências sobre o uso da regressão linear $times$ regressão logística na classificação de dados.* "
      ]
    },
    {
      "cell_type": "markdown",
      "metadata": {
        "id": "xGFJyOm1Kdtd"
      },
      "source": [
        "# Base de Dados \n",
        "\n",
        "*Descreva aqui os dados utilizados, discuta eventuais transformações e/ou seleções dos dados e preparações nos dados.* \n",
        "\n",
        "\n",
        "\n"
      ]
    },
    {
      "cell_type": "code",
      "execution_count": null,
      "metadata": {
        "id": "V_X2jqpl3UWA"
      },
      "outputs": [],
      "source": [
        "# seu código"
      ]
    },
    {
      "cell_type": "markdown",
      "metadata": {
        "id": "c8-GAboQLMaN"
      },
      "source": [
        "# Modelo de Regressão Linear\n",
        "\n",
        "*Descreva aqui as variáveis dependentes e independentes empregadas e eventuais transformações nas variáveis.*\n"
      ]
    },
    {
      "cell_type": "code",
      "execution_count": null,
      "metadata": {
        "id": "qT6s0LFY3zQ3"
      },
      "outputs": [],
      "source": [
        "# seu código"
      ]
    },
    {
      "cell_type": "markdown",
      "metadata": {
        "id": "xQFjTcSNzX83"
      },
      "source": [
        "## Análise do Modelo Linear"
      ]
    },
    {
      "cell_type": "code",
      "execution_count": null,
      "metadata": {
        "id": "9WNBcFRAzcxV"
      },
      "outputs": [],
      "source": [
        "# seu código"
      ]
    },
    {
      "cell_type": "markdown",
      "metadata": {
        "id": "njT66C0T39LA"
      },
      "source": [
        "## Discussão dos Resultados do Modelo Linear\n",
        "\n",
        "*Discuta aqui os resultados obtidos no modelo.*\n"
      ]
    },
    {
      "cell_type": "markdown",
      "metadata": {
        "id": "izbgP-6A4PQX"
      },
      "source": [
        "# Modelo Logístico\n",
        "\n",
        "*Descreva aqui as variáveis dependentes e independentes empregadas e eventuais transformações nas variáveis.*\n"
      ]
    },
    {
      "cell_type": "code",
      "execution_count": null,
      "metadata": {
        "id": "BM6yRuf44PQX"
      },
      "outputs": [],
      "source": [
        "# seu código"
      ]
    },
    {
      "cell_type": "markdown",
      "metadata": {
        "id": "xaLMajyL4PQY"
      },
      "source": [
        "## Análise do Modelo Logístico"
      ]
    },
    {
      "cell_type": "code",
      "execution_count": null,
      "metadata": {
        "id": "UGyRFZCy4PQY"
      },
      "outputs": [],
      "source": [
        "# seu código"
      ]
    },
    {
      "cell_type": "markdown",
      "metadata": {
        "id": "t6VNHEBt4PQY"
      },
      "source": [
        "## Discussão dos Resultados do Modelo Logístico\n",
        "\n",
        "*Discuta aqui os resultados obtidos no modelo.*\n"
      ]
    },
    {
      "cell_type": "code",
      "execution_count": null,
      "metadata": {
        "id": "U7bM0KJKzlAF"
      },
      "outputs": [],
      "source": [
        "# seu código"
      ]
    },
    {
      "cell_type": "markdown",
      "metadata": {
        "id": "9kwoGZeSLRsX"
      },
      "source": [
        "# Conclusão \n",
        "\n",
        "*Apresente a conclusão do seu estudo comparando ainda os resultados obtidos com o referencial teórico apresentado.*\n",
        "\n"
      ]
    },
    {
      "cell_type": "markdown",
      "metadata": {
        "id": "hc0rg9YSzRz9"
      },
      "source": [
        "# Referências \n",
        "\n",
        "*Indique as referências empregadas, incluindo as fontes de dados.*"
      ]
    },
    {
      "cell_type": "markdown",
      "metadata": {
        "id": "8crUBC3IQ3U_"
      },
      "source": [
        "---"
      ]
    },
    {
      "cell_type": "code",
      "execution_count": null,
      "metadata": {
        "cellView": "form",
        "id": "BluFtfHuCGzm"
      },
      "outputs": [],
      "source": [
        "#@title Avaliação\n",
        "Completo = 10 #@param {type:\"slider\", min:0, max:10, step:1}\n",
        "#@markdown Projeto cumpre todos os itens pedidos. \n",
        "Relevancia = 9 #@param {type:\"slider\", min:0, max:10, step:1}\n",
        "#@markdown As seleções de dados e eventos para análise são relevantes e justificados. \n",
        "Tecnicas = 6 #@param {type:\"slider\", min:0, max:10, step:1}\n",
        "#@markdown As técnicas de empregadas são adequadas e corretamente aplicadas.\n",
        "Apresentacao = 7 #@param {type:\"slider\", min:0, max:10, step:1}\n",
        "#@markdown A apresentação dos resultados é clara e objetiva.\n",
        "Analise = 8 #@param {type:\"slider\", min:0, max:10, step:1}\n",
        "#@markdown As premissas de análise se justificam e a analise é correta. \n",
        "Conclusao = 7 #@param {type:\"slider\", min:0, max:10, step:1}\n",
        "#@markdown As conclusões são justificadas e relevantes\n",
        "Bonus = 0.5 #@param {type:\"slider\", min:0, max:1, step:0.5}\n",
        "#@markdown A critério do professor por inovações na abordagem e no uso de técnicas de Análise de Dados\n",
        "\n",
        "\n",
        "\n",
        "\n",
        "\n",
        "\n"
      ]
    },
    {
      "cell_type": "code",
      "execution_count": null,
      "metadata": {
        "cellView": "form",
        "colab": {
          "base_uri": "https://localhost:8080/",
          "height": 148
        },
        "id": "2Gqw7hUZHyle",
        "outputId": "17dc9379-224b-4a07-e5c3-aa059ba434d8"
      },
      "outputs": [
        {
          "name": "stdout",
          "output_type": "stream",
          "text": [
            "Nota final do trabalho 8.3\n",
            "\n"
          ]
        },
        {
          "data": {
            "text/html": [
              "\n",
              "  <div id=\"df-a9923eb4-545a-4f29-aa29-1fd106203b8f\">\n",
              "    <div class=\"colab-df-container\">\n",
              "      <div>\n",
              "<style scoped>\n",
              "    .dataframe tbody tr th:only-of-type {\n",
              "        vertical-align: middle;\n",
              "    }\n",
              "\n",
              "    .dataframe tbody tr th {\n",
              "        vertical-align: top;\n",
              "    }\n",
              "\n",
              "    .dataframe thead th {\n",
              "        text-align: right;\n",
              "    }\n",
              "</style>\n",
              "<table border=\"1\" class=\"dataframe\">\n",
              "  <thead>\n",
              "    <tr style=\"text-align: right;\">\n",
              "      <th></th>\n",
              "      <th>tia</th>\n",
              "      <th>nome</th>\n",
              "      <th>nota</th>\n",
              "    </tr>\n",
              "  </thead>\n",
              "  <tbody>\n",
              "    <tr>\n",
              "      <th>0</th>\n",
              "      <td>1115665</td>\n",
              "      <td>ADRIANA FUJITA</td>\n",
              "      <td>8.3</td>\n",
              "    </tr>\n",
              "    <tr>\n",
              "      <th>1</th>\n",
              "      <td>1115677</td>\n",
              "      <td>DANIEL HENRIQUE</td>\n",
              "      <td>8.3</td>\n",
              "    </tr>\n",
              "  </tbody>\n",
              "</table>\n",
              "</div>\n",
              "      <button class=\"colab-df-convert\" onclick=\"convertToInteractive('df-a9923eb4-545a-4f29-aa29-1fd106203b8f')\"\n",
              "              title=\"Convert this dataframe to an interactive table.\"\n",
              "              style=\"display:none;\">\n",
              "        \n",
              "  <svg xmlns=\"http://www.w3.org/2000/svg\" height=\"24px\"viewBox=\"0 0 24 24\"\n",
              "       width=\"24px\">\n",
              "    <path d=\"M0 0h24v24H0V0z\" fill=\"none\"/>\n",
              "    <path d=\"M18.56 5.44l.94 2.06.94-2.06 2.06-.94-2.06-.94-.94-2.06-.94 2.06-2.06.94zm-11 1L8.5 8.5l.94-2.06 2.06-.94-2.06-.94L8.5 2.5l-.94 2.06-2.06.94zm10 10l.94 2.06.94-2.06 2.06-.94-2.06-.94-.94-2.06-.94 2.06-2.06.94z\"/><path d=\"M17.41 7.96l-1.37-1.37c-.4-.4-.92-.59-1.43-.59-.52 0-1.04.2-1.43.59L10.3 9.45l-7.72 7.72c-.78.78-.78 2.05 0 2.83L4 21.41c.39.39.9.59 1.41.59.51 0 1.02-.2 1.41-.59l7.78-7.78 2.81-2.81c.8-.78.8-2.07 0-2.86zM5.41 20L4 18.59l7.72-7.72 1.47 1.35L5.41 20z\"/>\n",
              "  </svg>\n",
              "      </button>\n",
              "      \n",
              "  <style>\n",
              "    .colab-df-container {\n",
              "      display:flex;\n",
              "      flex-wrap:wrap;\n",
              "      gap: 12px;\n",
              "    }\n",
              "\n",
              "    .colab-df-convert {\n",
              "      background-color: #E8F0FE;\n",
              "      border: none;\n",
              "      border-radius: 50%;\n",
              "      cursor: pointer;\n",
              "      display: none;\n",
              "      fill: #1967D2;\n",
              "      height: 32px;\n",
              "      padding: 0 0 0 0;\n",
              "      width: 32px;\n",
              "    }\n",
              "\n",
              "    .colab-df-convert:hover {\n",
              "      background-color: #E2EBFA;\n",
              "      box-shadow: 0px 1px 2px rgba(60, 64, 67, 0.3), 0px 1px 3px 1px rgba(60, 64, 67, 0.15);\n",
              "      fill: #174EA6;\n",
              "    }\n",
              "\n",
              "    [theme=dark] .colab-df-convert {\n",
              "      background-color: #3B4455;\n",
              "      fill: #D2E3FC;\n",
              "    }\n",
              "\n",
              "    [theme=dark] .colab-df-convert:hover {\n",
              "      background-color: #434B5C;\n",
              "      box-shadow: 0px 1px 3px 1px rgba(0, 0, 0, 0.15);\n",
              "      filter: drop-shadow(0px 1px 2px rgba(0, 0, 0, 0.3));\n",
              "      fill: #FFFFFF;\n",
              "    }\n",
              "  </style>\n",
              "\n",
              "      <script>\n",
              "        const buttonEl =\n",
              "          document.querySelector('#df-a9923eb4-545a-4f29-aa29-1fd106203b8f button.colab-df-convert');\n",
              "        buttonEl.style.display =\n",
              "          google.colab.kernel.accessAllowed ? 'block' : 'none';\n",
              "\n",
              "        async function convertToInteractive(key) {\n",
              "          const element = document.querySelector('#df-a9923eb4-545a-4f29-aa29-1fd106203b8f');\n",
              "          const dataTable =\n",
              "            await google.colab.kernel.invokeFunction('convertToInteractive',\n",
              "                                                     [key], {});\n",
              "          if (!dataTable) return;\n",
              "\n",
              "          const docLinkHtml = 'Like what you see? Visit the ' +\n",
              "            '<a target=\"_blank\" href=https://colab.research.google.com/notebooks/data_table.ipynb>data table notebook</a>'\n",
              "            + ' to learn more about interactive tables.';\n",
              "          element.innerHTML = '';\n",
              "          dataTable['output_type'] = 'display_data';\n",
              "          await google.colab.output.renderOutput(dataTable, element);\n",
              "          const docLink = document.createElement('div');\n",
              "          docLink.innerHTML = docLinkHtml;\n",
              "          element.appendChild(docLink);\n",
              "        }\n",
              "      </script>\n",
              "    </div>\n",
              "  </div>\n",
              "  "
            ],
            "text/plain": [
              "       tia              nome  nota\n",
              "0  1115665    ADRIANA FUJITA   8.3\n",
              "1  1115677   DANIEL HENRIQUE   8.3"
            ]
          },
          "execution_count": 23,
          "metadata": {},
          "output_type": "execute_result"
        }
      ],
      "source": [
        "#@markdown ### Nota Final\n",
        "nota = Completo + Relevancia + Tecnicas + Apresentacao + Analise + Conclusao \n",
        "\n",
        "nota = nota / 6 + Bonus\n",
        "\n",
        "print(f'Nota final do trabalho {nota :.1f}')\n",
        "\n",
        "import numpy as np\n",
        "import pandas as pd\n",
        "\n",
        "alunos = pd.DataFrame()\n",
        "\n",
        "lista_tia = []\n",
        "lista_nome = []\n",
        "\n",
        "for i in range(1,6):\n",
        "  exec(\"if Aluno\" + str(i) + \" !='None':  lista = Aluno\" + str(i) + \".split(','); lista_tia.append(lista[0]); lista_nome.append(lista[1].upper())\")\n",
        "\n",
        "alunos['tia'] = lista_tia\n",
        "alunos['nome'] = lista_nome\n",
        "alunos['nota'] = np.round(nota,1)\n",
        "print()\n",
        "alunos"
      ]
    }
  ],
  "metadata": {
    "colab": {
      "collapsed_sections": [],
      "name": "Cópia de IA_Projeto_N1_template.ipynb",
      "provenance": [],
      "toc_visible": true
    },
    "kernelspec": {
      "display_name": "Python 3",
      "language": "python",
      "name": "python3"
    },
    "language_info": {
      "codemirror_mode": {
        "name": "ipython",
        "version": 3
      },
      "file_extension": ".py",
      "mimetype": "text/x-python",
      "name": "python",
      "nbconvert_exporter": "python",
      "pygments_lexer": "ipython3",
      "version": "3.7.4"
    }
  },
  "nbformat": 4,
  "nbformat_minor": 0
}
