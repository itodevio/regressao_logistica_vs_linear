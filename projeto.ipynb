{
  "cells": [
    {
      "cell_type": "markdown",
      "metadata": {
        "id": "40b90843"
      },
      "source": [
        "<img src=\"http://meusite.mackenzie.br/rogerio/mackenzie_logo/UPM.2_horizontal_vermelho.jpg\"  width=300, align=\"right\">\n",
        "<br>\n",
        "<br>\n",
        "<br>\n",
        "<br>\n",
        "<br>\n",
        "\n",
        "# ***Título do seu projeto***\n",
        "---"
      ]
    },
    {
      "cell_type": "markdown",
      "metadata": {
        "id": "Ikv-pBzr9bNu"
      },
      "source": [
        "*Siga esse template para entrega do seu projeto. O código deste notebook precisa ser 100% executável.*"
      ]
    },
    {
      "cell_type": "code",
      "execution_count": 37,
      "metadata": {
        "cellView": "form",
        "id": "rYx9D4GZA5o9"
      },
      "outputs": [],
      "source": [
        "#@title Identificação do Grupo\n",
        "\n",
        "#@markdown Turma **7N**\n",
        "\n",
        "#@markdown Integrantes do Grupo (*informe \\<TIA\\>,\\<nome\\>*)\n",
        "Aluno1 = '31928900, Ítalo Assunção' #@param {type:\"string\"} \n",
        "Aluno2 = '31986773, Rafael Alencar' #@param {type:\"string\"}\n",
        "Aluno3 = '31617212, Felipe Retondar' #@param {type:\"string\"}\n",
        "Aluno4 = '31946968, Roberto Tsuneki' #@param {type:\"string\"}\n"
      ]
    },
    {
      "cell_type": "markdown",
      "metadata": {
        "id": "A4-f8AtfKAn2"
      },
      "source": [
        "# Apresentação do Trabalho\n",
        "\n",
        "#### A proposta do trabalho é predizer se uma pessoa vai ter uma doença cardíaca, baseado nos dados: \n",
        "\n",
        "\n",
        "- BMI - Índice de Massa Corpórea (float)\n",
        "- Smoking - Fumou pelo menos 100 cigarros durante a vida toda (sim/não)\n",
        "- AlcoholDrinking - Homem adulto que bebe mais de 14 drinks por semana ou Mulher adulta que bebe mais de 7 drinks por semana (sim/não)\n",
        "- Stroke - Já teve um derrame (sim/não)\n",
        "- PhysicalHealth - Quantas vezes nos últimos 30 dias a saúde física (doenças e machucados) não foi boa (int)\n",
        "- MentalHealth - Quantas vezes nos últimos 30 dias a saúde mental não foi boa (int)\n",
        "- DiffWalking - Dificuldade em andar (sim/não)\n",
        "- Sex - Sexo da pessoa (homem/mulher)\n",
        "- AgeCategory - Idade (intervalado)\n",
        "- Race - Raça (branco/hispanico/negro/asiático/outro)\n",
        "- Diabetic - É diabético (sim/não)\n",
        "- PhysicalActivity - Fez atividade física (sem contar trabalho) nos últimos 30 dias (sim/não)\n",
        "- GenHealth - Quão boa é a saúde geral (pobre/razoavel/boa/muito boa/excelente)\n",
        "- SleepTime - Horas de sono por dia em média (int)\n",
        "- Asthma - Tem/teve asma (sim/não)\n",
        "- KidneyDisease - Tem/teve doença renal (sem contar pedra no rim, infecção na bexiga e incontinência)\n",
        "- SkinCancer - Tem/teve câncer de pele (sim/não)\n",
        "\n",
        "##### *O dataset pode ser encontrado neste [link](https://www.kaggle.com/datasets/kamilpytlak/personal-key-indicators-of-heart-disease)*"
      ]
    },
    {
      "cell_type": "markdown",
      "metadata": {
        "id": "7LtXrRFr4hg3"
      },
      "source": [
        "# Referencial Teórico\n",
        "\n",
        "Foram usados os materiais vistos em aula, bem como as discussões, documentações e vídeos dos links abaixo:\n",
        "\n",
        "- [Documentação SciKit Learn](https://scikit-learn.org)\n",
        "- [Documentação Pandas](https://pandas.pydata.org/docs/reference/index.html#api)\n",
        "- [Documentação NumPy](https://numpy.org/doc/)"
      ]
    },
    {
      "cell_type": "markdown",
      "metadata": {
        "id": "xGFJyOm1Kdtd"
      },
      "source": [
        "# Base de Dados \n",
        "\n",
        "#### Foram usados todos os dados citados na apresentação, pois todos são considerados fatores chaves para doenças cardíacas. Foram necessárias algumas alterações nos dados em texto para dados numéricos, conforme explicado abaixo."
      ]
    },
    {
      "cell_type": "code",
      "execution_count": 62,
      "metadata": {},
      "outputs": [],
      "source": [
        "import pandas as pd\n",
        "from sklearn import linear_model\n",
        "from sklearn.model_selection import train_test_split\n",
        "from sklearn.metrics import accuracy_score, confusion_matrix\n",
        "import numpy as np\n",
        "import warnings\n",
        "\n",
        "pd.set_option('display.max_columns', None)\n",
        "warnings.filterwarnings(\"ignore\")"
      ]
    },
    {
      "cell_type": "code",
      "execution_count": 24,
      "metadata": {},
      "outputs": [
        {
          "data": {
            "text/html": [
              "<div>\n",
              "<style scoped>\n",
              "    .dataframe tbody tr th:only-of-type {\n",
              "        vertical-align: middle;\n",
              "    }\n",
              "\n",
              "    .dataframe tbody tr th {\n",
              "        vertical-align: top;\n",
              "    }\n",
              "\n",
              "    .dataframe thead th {\n",
              "        text-align: right;\n",
              "    }\n",
              "</style>\n",
              "<table border=\"1\" class=\"dataframe\">\n",
              "  <thead>\n",
              "    <tr style=\"text-align: right;\">\n",
              "      <th></th>\n",
              "      <th>HeartDisease</th>\n",
              "      <th>BMI</th>\n",
              "      <th>Smoking</th>\n",
              "      <th>AlcoholDrinking</th>\n",
              "      <th>Stroke</th>\n",
              "      <th>PhysicalHealth</th>\n",
              "      <th>MentalHealth</th>\n",
              "      <th>DiffWalking</th>\n",
              "      <th>Sex</th>\n",
              "      <th>AgeCategory</th>\n",
              "      <th>Race</th>\n",
              "      <th>Diabetic</th>\n",
              "      <th>PhysicalActivity</th>\n",
              "      <th>GenHealth</th>\n",
              "      <th>SleepTime</th>\n",
              "      <th>Asthma</th>\n",
              "      <th>KidneyDisease</th>\n",
              "      <th>SkinCancer</th>\n",
              "    </tr>\n",
              "  </thead>\n",
              "  <tbody>\n",
              "    <tr>\n",
              "      <th>0</th>\n",
              "      <td>No</td>\n",
              "      <td>16.60</td>\n",
              "      <td>Yes</td>\n",
              "      <td>No</td>\n",
              "      <td>No</td>\n",
              "      <td>3.0</td>\n",
              "      <td>30.0</td>\n",
              "      <td>No</td>\n",
              "      <td>Female</td>\n",
              "      <td>55-59</td>\n",
              "      <td>White</td>\n",
              "      <td>Yes</td>\n",
              "      <td>Yes</td>\n",
              "      <td>Very good</td>\n",
              "      <td>5.0</td>\n",
              "      <td>Yes</td>\n",
              "      <td>No</td>\n",
              "      <td>Yes</td>\n",
              "    </tr>\n",
              "    <tr>\n",
              "      <th>1</th>\n",
              "      <td>No</td>\n",
              "      <td>20.34</td>\n",
              "      <td>No</td>\n",
              "      <td>No</td>\n",
              "      <td>Yes</td>\n",
              "      <td>0.0</td>\n",
              "      <td>0.0</td>\n",
              "      <td>No</td>\n",
              "      <td>Female</td>\n",
              "      <td>80 or older</td>\n",
              "      <td>White</td>\n",
              "      <td>No</td>\n",
              "      <td>Yes</td>\n",
              "      <td>Very good</td>\n",
              "      <td>7.0</td>\n",
              "      <td>No</td>\n",
              "      <td>No</td>\n",
              "      <td>No</td>\n",
              "    </tr>\n",
              "    <tr>\n",
              "      <th>2</th>\n",
              "      <td>No</td>\n",
              "      <td>26.58</td>\n",
              "      <td>Yes</td>\n",
              "      <td>No</td>\n",
              "      <td>No</td>\n",
              "      <td>20.0</td>\n",
              "      <td>30.0</td>\n",
              "      <td>No</td>\n",
              "      <td>Male</td>\n",
              "      <td>65-69</td>\n",
              "      <td>White</td>\n",
              "      <td>Yes</td>\n",
              "      <td>Yes</td>\n",
              "      <td>Fair</td>\n",
              "      <td>8.0</td>\n",
              "      <td>Yes</td>\n",
              "      <td>No</td>\n",
              "      <td>No</td>\n",
              "    </tr>\n",
              "    <tr>\n",
              "      <th>3</th>\n",
              "      <td>No</td>\n",
              "      <td>24.21</td>\n",
              "      <td>No</td>\n",
              "      <td>No</td>\n",
              "      <td>No</td>\n",
              "      <td>0.0</td>\n",
              "      <td>0.0</td>\n",
              "      <td>No</td>\n",
              "      <td>Female</td>\n",
              "      <td>75-79</td>\n",
              "      <td>White</td>\n",
              "      <td>No</td>\n",
              "      <td>No</td>\n",
              "      <td>Good</td>\n",
              "      <td>6.0</td>\n",
              "      <td>No</td>\n",
              "      <td>No</td>\n",
              "      <td>Yes</td>\n",
              "    </tr>\n",
              "    <tr>\n",
              "      <th>4</th>\n",
              "      <td>No</td>\n",
              "      <td>23.71</td>\n",
              "      <td>No</td>\n",
              "      <td>No</td>\n",
              "      <td>No</td>\n",
              "      <td>28.0</td>\n",
              "      <td>0.0</td>\n",
              "      <td>Yes</td>\n",
              "      <td>Female</td>\n",
              "      <td>40-44</td>\n",
              "      <td>White</td>\n",
              "      <td>No</td>\n",
              "      <td>Yes</td>\n",
              "      <td>Very good</td>\n",
              "      <td>8.0</td>\n",
              "      <td>No</td>\n",
              "      <td>No</td>\n",
              "      <td>No</td>\n",
              "    </tr>\n",
              "  </tbody>\n",
              "</table>\n",
              "</div>"
            ],
            "text/plain": [
              "  HeartDisease    BMI Smoking AlcoholDrinking Stroke  PhysicalHealth  \\\n",
              "0           No  16.60     Yes              No     No             3.0   \n",
              "1           No  20.34      No              No    Yes             0.0   \n",
              "2           No  26.58     Yes              No     No            20.0   \n",
              "3           No  24.21      No              No     No             0.0   \n",
              "4           No  23.71      No              No     No            28.0   \n",
              "\n",
              "   MentalHealth DiffWalking     Sex  AgeCategory   Race Diabetic  \\\n",
              "0          30.0          No  Female        55-59  White      Yes   \n",
              "1           0.0          No  Female  80 or older  White       No   \n",
              "2          30.0          No    Male        65-69  White      Yes   \n",
              "3           0.0          No  Female        75-79  White       No   \n",
              "4           0.0         Yes  Female        40-44  White       No   \n",
              "\n",
              "  PhysicalActivity  GenHealth  SleepTime Asthma KidneyDisease SkinCancer  \n",
              "0              Yes  Very good        5.0    Yes            No        Yes  \n",
              "1              Yes  Very good        7.0     No            No         No  \n",
              "2              Yes       Fair        8.0    Yes            No         No  \n",
              "3               No       Good        6.0     No            No        Yes  \n",
              "4              Yes  Very good        8.0     No            No         No  "
            ]
          },
          "execution_count": 24,
          "metadata": {},
          "output_type": "execute_result"
        }
      ],
      "source": [
        "raw = pd.read_csv('heart_2020_cleaned.csv')\n",
        "\n",
        "raw.head()"
      ]
    },
    {
      "cell_type": "markdown",
      "metadata": {},
      "source": [
        "##### Precisamos transformar os dados não numérico em numéricos, e para isso usaremos 2 métodos:\n",
        "\n",
        "- Se o dado for binário (Yes/No), transformamos em 0 (No) e 1 (Yes)\n",
        "- Se o dado for texto ou um interval (GenHealth, AgeCategory etc) aplicamos hot encode"
      ]
    },
    {
      "cell_type": "code",
      "execution_count": 25,
      "metadata": {
        "id": "V_X2jqpl3UWA"
      },
      "outputs": [
        {
          "name": "stdout",
          "output_type": "stream",
          "text": [
            "1\n"
          ]
        }
      ],
      "source": [
        "# Removendo linhas com valores nulos\n",
        "raw = raw.dropna()\n",
        "\n",
        "# Função para tornar Yes/No em 1/0\n",
        "def binarify(x):\n",
        "  if (x == 'Yes'):\n",
        "    return 1\n",
        "  \n",
        "  if (x == 'No'):\n",
        "    return 0\n",
        "  \n",
        "  return x\n",
        "\n",
        "# Aplicando função para casos de Yes/No\n",
        "raw['HeartDisease'] = raw['HeartDisease'].apply(binarify)\n",
        "\n",
        "raw['Smoking'] = raw['Smoking'].apply(binarify)\n",
        "raw['AlcoholDrinking'] = raw['AlcoholDrinking'].apply(binarify)\n",
        "raw['Stroke'] = raw['Stroke'].apply(binarify)\n",
        "raw['DiffWalking'] = raw['DiffWalking'].apply(binarify)\n",
        "raw['Diabetic'] = raw['Diabetic'].apply(binarify)\n",
        "raw['PhysicalActivity'] = raw['PhysicalActivity'].apply(binarify)\n",
        "raw['Asthma'] = raw['Asthma'].apply(binarify)\n",
        "raw['KidneyDisease'] = raw['KidneyDisease'].apply(binarify)\n",
        "raw['SkinCancer'] = raw['SkinCancer'].apply(binarify)\n",
        "\n",
        "# Aplicando hot encode para casos de textos/intervalos\n",
        "dummies = pd.get_dummies(raw.Sex, prefix='Sex')\n",
        "raw = pd.concat([raw, dummies], axis=1)\n",
        "dummies = pd.get_dummies(raw.AgeCategory, prefix='AgeCategory')\n",
        "raw = pd.concat([raw, dummies], axis=1)\n",
        "dummies = pd.get_dummies(raw.Race, prefix='Race')\n",
        "raw = pd.concat([raw, dummies], axis=1)\n",
        "dummies = pd.get_dummies(raw.GenHealth, prefix='GenHealth')\n",
        "raw = pd.concat([raw, dummies], axis=1)\n",
        "\n",
        "# Removendo as colunas em que aplicamos hot encode\n",
        "df = raw.drop(columns=['Sex', 'AgeCategory', 'Race', 'GenHealth'])\n",
        "\n",
        "# Separando dataset em 70% para treino, 30% para teste\n",
        "x_train, x_test, y_train, y_test = train_test_split(df.drop(columns='HeartDisease'), df.HeartDisease, train_size=0.7)\n",
        "\n",
        "# df.head()"
      ]
    },
    {
      "cell_type": "markdown",
      "metadata": {
        "id": "c8-GAboQLMaN"
      },
      "source": [
        "# Modelo de Regressão Linear\n",
        "\n",
        "#### Variáveis Dependentes:\n",
        "- HeartDisease\n",
        "\n",
        "#### Variáveis Independentes:\n",
        "- BMI\n",
        "- Smoking\n",
        "- AlcoholDrinking\n",
        "- Stroke\n",
        "- PhysicalHealth\n",
        "- MentalHealth\n",
        "- DiffWalking\n",
        "- Sex\n",
        "- AgeCategory\n",
        "- Race\n",
        "- Diabetic\n",
        "- PhysicalActivity\n",
        "- GenHealth\n",
        "- SleepTime\n",
        "- Asthma\n",
        "- KidneyDisease\n",
        "- SkinCancer\n",
        "\n",
        "#### Transformações\n",
        "\n",
        "Todas as transformações necessárias foram descritas acima."
      ]
    },
    {
      "cell_type": "code",
      "execution_count": 68,
      "metadata": {
        "id": "qT6s0LFY3zQ3"
      },
      "outputs": [
        {
          "name": "stdout",
          "output_type": "stream",
          "text": [
            "Acertos: 87805\n",
            "Erros: 8134\n",
            "Precisão: 0.9152169607771605\n"
          ]
        }
      ],
      "source": [
        "model = linear_model.LinearRegression()\n",
        "\n",
        "model.fit(x_train, y_train)\n",
        "\n",
        "pred = model.predict(x_test)\n",
        "\n",
        "# Transformando os dados em binário, considerando o threshold de >= 0.5 como 1 (tem doença cardíaca) e < 0.5  como 0 (não tem doença cardíaca)\n",
        "pred = [1 if x >= 0.5 else 0 for x in pred]\n",
        "\n",
        "# Verificando precisão do modelo\n",
        "cnf_matrix = confusion_matrix(y_test, pred)\n",
        "\n",
        "verdadeiro_positivo = cnf_matrix[0][0]\n",
        "falso_positivo = cnf_matrix[0][1]\n",
        "falso_negativo = cnf_matrix[1][0]\n",
        "verdadeiro_negativo = cnf_matrix[1][1]\n",
        "\n",
        "print(f'Acertos: {verdadeiro_negativo + verdadeiro_positivo}')\n",
        "print(f'Erros: {falso_negativo + falso_positivo}')\n",
        "print(f'Precisão: {accuracy_score(y_test, pred)}')"
      ]
    },
    {
      "cell_type": "markdown",
      "metadata": {
        "id": "xQFjTcSNzX83"
      },
      "source": [
        "## Análise do Modelo Linear\n",
        "\n",
        "O modelo linear não é intuitivo nem o ideal quando se trata de modelos de classificação. Contudo, sua aplicação é possível de ser feita, sendo necessário, porém, realizar hot encode para transformar dados não-numéricos em dados numéricos, aplicar o modelo e, então, em sua predição criar um threshold (intuitivamente 0.5) para \"binarizar\" o resultado em 0 e 1.\n",
        "\n",
        "Isso causa uma perda de precisão e deixa o modelo sensível na adição de novos dados, tornando-se necessário o treinamento a cada nova adição e a revalidação dos thresholds."
      ]
    },
    {
      "cell_type": "markdown",
      "metadata": {
        "id": "njT66C0T39LA"
      },
      "source": [
        "## Discussão dos Resultados do Modelo Linear\n",
        "\n",
        "Como pudemos ver pela precisão do modelo, embora não seja o modelo mais ideal para classificação, ele tem uma considerável taxa de acertividade com aproximadamente 91.52% **neste caso**."
      ]
    },
    {
      "cell_type": "markdown",
      "metadata": {
        "id": "izbgP-6A4PQX"
      },
      "source": [
        "# Modelo Logístico\n",
        "\n",
        "#### Variáveis Dependentes:\n",
        "- HeartDisease\n",
        "\n",
        "#### Variáveis Independentes:\n",
        "- BMI\n",
        "- Smoking\n",
        "- AlcoholDrinking\n",
        "- Stroke\n",
        "- PhysicalHealth\n",
        "- MentalHealth\n",
        "- DiffWalking\n",
        "- Sex\n",
        "- AgeCategory\n",
        "- Race\n",
        "- Diabetic\n",
        "- PhysicalActivity\n",
        "- GenHealth\n",
        "- SleepTime\n",
        "- Asthma\n",
        "- KidneyDisease\n",
        "- SkinCancer\n",
        "\n",
        "#### Transformações\n",
        "\n",
        "Todas as transformações necessárias foram descritas acima."
      ]
    },
    {
      "cell_type": "code",
      "execution_count": 67,
      "metadata": {
        "id": "BM6yRuf44PQX"
      },
      "outputs": [
        {
          "name": "stdout",
          "output_type": "stream",
          "text": [
            "Acertos: 87813\n",
            "Erros: 8126\n",
            "Precisão: 0.9153003470955503\n"
          ]
        }
      ],
      "source": [
        "model2 = linear_model.LogisticRegression()\n",
        "\n",
        "model2.fit(x_train, y_train)\n",
        "\n",
        "pred2 = model2.predict(x_test)\n",
        "\n",
        "cnf_matrix2 = confusion_matrix(y_test, pred2)\n",
        "\n",
        "verdadeiro_positivo2 = cnf_matrix2[0][0]\n",
        "falso_positivo2 = cnf_matrix2[0][1]\n",
        "falso_negativo2 = cnf_matrix2[1][0]\n",
        "verdadeiro_negativo2 = cnf_matrix2[1][1]\n",
        "\n",
        "print(f'Acertos: {verdadeiro_negativo2 + verdadeiro_positivo2}')\n",
        "print(f'Erros: {falso_negativo2 + falso_positivo2}')\n",
        "print(f'Precisão: {accuracy_score(y_test, pred2)}')"
      ]
    },
    {
      "cell_type": "markdown",
      "metadata": {
        "id": "xaLMajyL4PQY"
      },
      "source": [
        "## Análise do Modelo Logístico"
      ]
    },
    {
      "cell_type": "markdown",
      "metadata": {},
      "source": [
        "O Modelo Logístico é o modelo mais indicado (quando comparado com o modelo linear) para problemas de classificação.\n",
        "\n",
        "Também encontramos a necessidade de utilizar hot encode para transformar os dados."
      ]
    },
    {
      "cell_type": "markdown",
      "metadata": {
        "id": "t6VNHEBt4PQY"
      },
      "source": [
        "## Discussão dos Resultados do Modelo Logístico\n",
        "\n",
        "Conforme pode-se ver no resultado da precisão, o modelo logístico conseguiu chegar num resultado considerável de aproximadamente 91.53% de acertividade **neste caso**\n"
      ]
    },
    {
      "cell_type": "markdown",
      "metadata": {
        "id": "9kwoGZeSLRsX"
      },
      "source": [
        "# Conclusão \n",
        "\n",
        "Comparando os dois modelos, é perceptível a diferença de implementação: o modelo linear requer a transformação do resultado predito em valor binário (para se qualificar como modelo de classificação), enquanto este resultado já é o retornado pelo modelo logístico, escancarando a preferência desde caso de uso.\n",
        "\n",
        "Sabendo disso, entretanto, os resultados se mostraram extremamente próximos, havendo uma diferença mínima desconsiderável de 1/10000 para os dados utilizados neste estudo. "
      ]
    },
    {
      "cell_type": "markdown",
      "metadata": {
        "id": "hc0rg9YSzRz9"
      },
      "source": [
        "# Referências \n",
        "\n",
        "Além do Referencial Teórico, também foram utilizados esses links:\n",
        "\n",
        "- [Dataset - Kaggle](https://www.kaggle.com/datasets/kamilpytlak/personal-key-indicators-of-heart-disease)\n",
        "- [Para entender como classificar binariamente usando Regressão Linear](https://discuss.analyticsvidhya.com/t/using-linear-regression-for-a-classification-problem/9848/3)\n",
        "- [Porque não usar Regressão Linear para modelos de classificação](https://www.youtube.com/watch?v=2TvKZnTHC4M)\n",
        "- [Porque a Regressão Linear é pior do que outros modelos de classificação](https://stats.stackexchange.com/a/22382)"
      ]
    },
    {
      "cell_type": "markdown",
      "metadata": {
        "id": "8crUBC3IQ3U_"
      },
      "source": [
        "---"
      ]
    },
    {
      "cell_type": "code",
      "execution_count": 60,
      "metadata": {
        "cellView": "form",
        "id": "BluFtfHuCGzm"
      },
      "outputs": [],
      "source": [
        "#@title Avaliação\n",
        "Completo = 10 #@param {type:\"slider\", min:0, max:10, step:1}\n",
        "#@markdown Projeto cumpre todos os itens pedidos. \n",
        "Relevancia = 9 #@param {type:\"slider\", min:0, max:10, step:1}\n",
        "#@markdown As seleções de dados e eventos para análise são relevantes e justificados. \n",
        "Tecnicas = 6 #@param {type:\"slider\", min:0, max:10, step:1}\n",
        "#@markdown As técnicas de empregadas são adequadas e corretamente aplicadas.\n",
        "Apresentacao = 7 #@param {type:\"slider\", min:0, max:10, step:1}\n",
        "#@markdown A apresentação dos resultados é clara e objetiva.\n",
        "Analise = 8 #@param {type:\"slider\", min:0, max:10, step:1}\n",
        "#@markdown As premissas de análise se justificam e a analise é correta. \n",
        "Conclusao = 7 #@param {type:\"slider\", min:0, max:10, step:1}\n",
        "#@markdown As conclusões são justificadas e relevantes\n",
        "Bonus = 0.5 #@param {type:\"slider\", min:0, max:1, step:0.5}\n",
        "#@markdown A critério do professor por inovações na abordagem e no uso de técnicas de Análise de Dados\n",
        "\n",
        "\n",
        "\n",
        "\n",
        "\n",
        "\n"
      ]
    },
    {
      "cell_type": "code",
      "execution_count": null,
      "metadata": {
        "cellView": "form",
        "colab": {
          "base_uri": "https://localhost:8080/",
          "height": 148
        },
        "id": "2Gqw7hUZHyle",
        "outputId": "17dc9379-224b-4a07-e5c3-aa059ba434d8"
      },
      "outputs": [
        {
          "name": "stdout",
          "output_type": "stream",
          "text": [
            "Nota final do trabalho 8.3\n",
            "\n"
          ]
        },
        {
          "data": {
            "text/html": [
              "\n",
              "  <div id=\"df-a9923eb4-545a-4f29-aa29-1fd106203b8f\">\n",
              "    <div class=\"colab-df-container\">\n",
              "      <div>\n",
              "<style scoped>\n",
              "    .dataframe tbody tr th:only-of-type {\n",
              "        vertical-align: middle;\n",
              "    }\n",
              "\n",
              "    .dataframe tbody tr th {\n",
              "        vertical-align: top;\n",
              "    }\n",
              "\n",
              "    .dataframe thead th {\n",
              "        text-align: right;\n",
              "    }\n",
              "</style>\n",
              "<table border=\"1\" class=\"dataframe\">\n",
              "  <thead>\n",
              "    <tr style=\"text-align: right;\">\n",
              "      <th></th>\n",
              "      <th>tia</th>\n",
              "      <th>nome</th>\n",
              "      <th>nota</th>\n",
              "    </tr>\n",
              "  </thead>\n",
              "  <tbody>\n",
              "    <tr>\n",
              "      <th>0</th>\n",
              "      <td>1115665</td>\n",
              "      <td>ADRIANA FUJITA</td>\n",
              "      <td>8.3</td>\n",
              "    </tr>\n",
              "    <tr>\n",
              "      <th>1</th>\n",
              "      <td>1115677</td>\n",
              "      <td>DANIEL HENRIQUE</td>\n",
              "      <td>8.3</td>\n",
              "    </tr>\n",
              "  </tbody>\n",
              "</table>\n",
              "</div>\n",
              "      <button class=\"colab-df-convert\" onclick=\"convertToInteractive('df-a9923eb4-545a-4f29-aa29-1fd106203b8f')\"\n",
              "              title=\"Convert this dataframe to an interactive table.\"\n",
              "              style=\"display:none;\">\n",
              "        \n",
              "  <svg xmlns=\"http://www.w3.org/2000/svg\" height=\"24px\"viewBox=\"0 0 24 24\"\n",
              "       width=\"24px\">\n",
              "    <path d=\"M0 0h24v24H0V0z\" fill=\"none\"/>\n",
              "    <path d=\"M18.56 5.44l.94 2.06.94-2.06 2.06-.94-2.06-.94-.94-2.06-.94 2.06-2.06.94zm-11 1L8.5 8.5l.94-2.06 2.06-.94-2.06-.94L8.5 2.5l-.94 2.06-2.06.94zm10 10l.94 2.06.94-2.06 2.06-.94-2.06-.94-.94-2.06-.94 2.06-2.06.94z\"/><path d=\"M17.41 7.96l-1.37-1.37c-.4-.4-.92-.59-1.43-.59-.52 0-1.04.2-1.43.59L10.3 9.45l-7.72 7.72c-.78.78-.78 2.05 0 2.83L4 21.41c.39.39.9.59 1.41.59.51 0 1.02-.2 1.41-.59l7.78-7.78 2.81-2.81c.8-.78.8-2.07 0-2.86zM5.41 20L4 18.59l7.72-7.72 1.47 1.35L5.41 20z\"/>\n",
              "  </svg>\n",
              "      </button>\n",
              "      \n",
              "  <style>\n",
              "    .colab-df-container {\n",
              "      display:flex;\n",
              "      flex-wrap:wrap;\n",
              "      gap: 12px;\n",
              "    }\n",
              "\n",
              "    .colab-df-convert {\n",
              "      background-color: #E8F0FE;\n",
              "      border: none;\n",
              "      border-radius: 50%;\n",
              "      cursor: pointer;\n",
              "      display: none;\n",
              "      fill: #1967D2;\n",
              "      height: 32px;\n",
              "      padding: 0 0 0 0;\n",
              "      width: 32px;\n",
              "    }\n",
              "\n",
              "    .colab-df-convert:hover {\n",
              "      background-color: #E2EBFA;\n",
              "      box-shadow: 0px 1px 2px rgba(60, 64, 67, 0.3), 0px 1px 3px 1px rgba(60, 64, 67, 0.15);\n",
              "      fill: #174EA6;\n",
              "    }\n",
              "\n",
              "    [theme=dark] .colab-df-convert {\n",
              "      background-color: #3B4455;\n",
              "      fill: #D2E3FC;\n",
              "    }\n",
              "\n",
              "    [theme=dark] .colab-df-convert:hover {\n",
              "      background-color: #434B5C;\n",
              "      box-shadow: 0px 1px 3px 1px rgba(0, 0, 0, 0.15);\n",
              "      filter: drop-shadow(0px 1px 2px rgba(0, 0, 0, 0.3));\n",
              "      fill: #FFFFFF;\n",
              "    }\n",
              "  </style>\n",
              "\n",
              "      <script>\n",
              "        const buttonEl =\n",
              "          document.querySelector('#df-a9923eb4-545a-4f29-aa29-1fd106203b8f button.colab-df-convert');\n",
              "        buttonEl.style.display =\n",
              "          google.colab.kernel.accessAllowed ? 'block' : 'none';\n",
              "\n",
              "        async function convertToInteractive(key) {\n",
              "          const element = document.querySelector('#df-a9923eb4-545a-4f29-aa29-1fd106203b8f');\n",
              "          const dataTable =\n",
              "            await google.colab.kernel.invokeFunction('convertToInteractive',\n",
              "                                                     [key], {});\n",
              "          if (!dataTable) return;\n",
              "\n",
              "          const docLinkHtml = 'Like what you see? Visit the ' +\n",
              "            '<a target=\"_blank\" href=https://colab.research.google.com/notebooks/data_table.ipynb>data table notebook</a>'\n",
              "            + ' to learn more about interactive tables.';\n",
              "          element.innerHTML = '';\n",
              "          dataTable['output_type'] = 'display_data';\n",
              "          await google.colab.output.renderOutput(dataTable, element);\n",
              "          const docLink = document.createElement('div');\n",
              "          docLink.innerHTML = docLinkHtml;\n",
              "          element.appendChild(docLink);\n",
              "        }\n",
              "      </script>\n",
              "    </div>\n",
              "  </div>\n",
              "  "
            ],
            "text/plain": [
              "       tia              nome  nota\n",
              "0  1115665    ADRIANA FUJITA   8.3\n",
              "1  1115677   DANIEL HENRIQUE   8.3"
            ]
          },
          "execution_count": 23,
          "metadata": {},
          "output_type": "execute_result"
        }
      ],
      "source": [
        "#@markdown ### Nota Final\n",
        "nota = Completo + Relevancia + Tecnicas + Apresentacao + Analise + Conclusao \n",
        "\n",
        "nota = nota / 6 + Bonus\n",
        "\n",
        "print(f'Nota final do trabalho {nota :.1f}')\n",
        "\n",
        "import numpy as np\n",
        "import pandas as pd\n",
        "\n",
        "alunos = pd.DataFrame()\n",
        "\n",
        "lista_tia = []\n",
        "lista_nome = []\n",
        "\n",
        "for i in range(1,6):\n",
        "  exec(\"if Aluno\" + str(i) + \" !='None':  lista = Aluno\" + str(i) + \".split(','); lista_tia.append(lista[0]); lista_nome.append(lista[1].upper())\")\n",
        "\n",
        "alunos['tia'] = lista_tia\n",
        "alunos['nome'] = lista_nome\n",
        "alunos['nota'] = np.round(nota,1)\n",
        "print()\n",
        "alunos"
      ]
    }
  ],
  "metadata": {
    "colab": {
      "collapsed_sections": [],
      "name": "Cópia de IA_Projeto_N1_template.ipynb",
      "provenance": [],
      "toc_visible": true
    },
    "kernelspec": {
      "display_name": "Python 3",
      "language": "python",
      "name": "python3"
    },
    "language_info": {
      "codemirror_mode": {
        "name": "ipython",
        "version": 3
      },
      "file_extension": ".py",
      "mimetype": "text/x-python",
      "name": "python",
      "nbconvert_exporter": "python",
      "pygments_lexer": "ipython3",
      "version": "3.10.0"
    }
  },
  "nbformat": 4,
  "nbformat_minor": 0
}
